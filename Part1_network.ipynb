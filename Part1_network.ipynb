{
 "cells": [
  {
   "cell_type": "code",
   "execution_count": 1,
   "id": "06616f3e-3e04-4b07-ab6f-8173c935d54e",
   "metadata": {},
   "outputs": [],
   "source": [
    "import networkx as nx\n",
    "import matplotlib.pyplot as plt\n",
    "import pandas as pd\n",
    "from operator import itemgetter"
   ]
  },
  {
   "cell_type": "code",
   "execution_count": 2,
   "id": "3667c6d3-6b20-4c46-ae03-7daa75532b4d",
   "metadata": {},
   "outputs": [],
   "source": [
    "#OK, let us start with the graphml file for London's underground\n",
    "G = nx.read_graphml('london.graph.xml')"
   ]
  },
  {
   "cell_type": "code",
   "execution_count": 3,
   "id": "bff9fe50-b4a1-4aec-b84a-5c572047913b",
   "metadata": {},
   "outputs": [
    {
     "data": {
      "text/plain": [
       "networkx.classes.graph.Graph"
      ]
     },
     "execution_count": 3,
     "metadata": {},
     "output_type": "execute_result"
    }
   ],
   "source": [
    "type(G)"
   ]
  },
  {
   "cell_type": "code",
   "execution_count": 4,
   "id": "100d10ad-2999-4e69-a4f3-0046d0f984b9",
   "metadata": {},
   "outputs": [
    {
     "name": "stdout",
     "output_type": "stream",
     "text": [
      "Graph with 401 nodes and 467 edges\n"
     ]
    }
   ],
   "source": [
    "print(nx.info(G))"
   ]
  },
  {
   "cell_type": "code",
   "execution_count": 5,
   "id": "92a0465f-9832-46b5-b398-62c48414f56c",
   "metadata": {},
   "outputs": [
    {
     "data": {
      "text/plain": [
       "('Wembley Park', {'coords': '(519316.5590174915, 186389.32981656672)'})"
      ]
     },
     "execution_count": 5,
     "metadata": {},
     "output_type": "execute_result"
    }
   ],
   "source": [
    "# To check node attributes:\n",
    "list(G.nodes(data = True))[0]"
   ]
  },
  {
   "cell_type": "code",
   "execution_count": 6,
   "id": "697da1f3-97d1-48a8-aaa9-3fde452a37aa",
   "metadata": {},
   "outputs": [],
   "source": [
    "station_name=list(G.nodes)"
   ]
  },
  {
   "cell_type": "code",
   "execution_count": 7,
   "id": "c411acdd-4021-42e1-919a-37e1b9a6f615",
   "metadata": {},
   "outputs": [],
   "source": [
    "#since coords tuples are stored as string\n",
    "#need to convert them back to tuples using eval()\n",
    "for node in G.nodes():\n",
    "    G.nodes[node]['coords'] = eval(G.nodes[node]['coords'])"
   ]
  },
  {
   "cell_type": "code",
   "execution_count": 8,
   "id": "1c61a330-aa3b-4db8-bed9-463869979085",
   "metadata": {},
   "outputs": [
    {
     "data": {
      "text/plain": [
       "('Wembley Park', {'coords': (519316.5590174915, 186389.32981656672)})"
      ]
     },
     "execution_count": 8,
     "metadata": {},
     "output_type": "execute_result"
    }
   ],
   "source": [
    "# To check node attributes:\n",
    "list(G.nodes(data = True))[0]"
   ]
  },
  {
   "cell_type": "code",
   "execution_count": 9,
   "id": "4cbf926a-c1f9-45be-a8b4-df0459630f26",
   "metadata": {},
   "outputs": [
    {
     "data": {
      "text/plain": [
       "('Wembley Park',\n",
       " 'Kingsbury',\n",
       " {'length': 2916.7715580506483, 'line_name': 'Jubilee', 'flows': 12356})"
      ]
     },
     "execution_count": 9,
     "metadata": {},
     "output_type": "execute_result"
    }
   ],
   "source": [
    "# To check edges attributes:\n",
    "list(G.edges(data = True))[0]"
   ]
  },
  {
   "cell_type": "code",
   "execution_count": 10,
   "id": "e5ffd28f-fe05-46da-a753-62da79aef4cb",
   "metadata": {},
   "outputs": [],
   "source": [
    "# give the 'station name' to the node\n",
    "station_name = list(G.nodes)\n",
    "for node in station_name:\n",
    "    G.nodes[node]['station_name'] = node"
   ]
  },
  {
   "cell_type": "code",
   "execution_count": 11,
   "id": "3a38de4d-c4a5-49ad-88c0-a97bb3dcbbba",
   "metadata": {},
   "outputs": [],
   "source": [
    "# we can also add the stations name to the edge attributes from the nodes attributes:\n",
    "\n",
    "nod_name1={(e1,e2):(G.nodes[e1]['station_name']) for e1, e2 in G.edges()}\n",
    "nod_name2={(e1,e2):(G.nodes[e2]['station_name']) for e1, e2 in G.edges()}\n",
    "\n",
    "nx.set_edge_attributes(G,nod_name1,'station_1_')\n",
    "nx.set_edge_attributes(G,nod_name2,'station_2_')"
   ]
  },
  {
   "cell_type": "code",
   "execution_count": 12,
   "id": "b2219411-3cd7-45a8-aca8-3e5755dd12c7",
   "metadata": {},
   "outputs": [
    {
     "data": {
      "text/html": [
       "<div>\n",
       "<style scoped>\n",
       "    .dataframe tbody tr th:only-of-type {\n",
       "        vertical-align: middle;\n",
       "    }\n",
       "\n",
       "    .dataframe tbody tr th {\n",
       "        vertical-align: top;\n",
       "    }\n",
       "\n",
       "    .dataframe thead th {\n",
       "        text-align: right;\n",
       "    }\n",
       "</style>\n",
       "<table border=\"1\" class=\"dataframe\">\n",
       "  <thead>\n",
       "    <tr style=\"text-align: right;\">\n",
       "      <th></th>\n",
       "      <th>source</th>\n",
       "      <th>target</th>\n",
       "      <th>line_name</th>\n",
       "      <th>length</th>\n",
       "      <th>flows</th>\n",
       "      <th>station_1_</th>\n",
       "      <th>station_2_</th>\n",
       "    </tr>\n",
       "  </thead>\n",
       "  <tbody>\n",
       "    <tr>\n",
       "      <th>0</th>\n",
       "      <td>Wembley Park</td>\n",
       "      <td>Kingsbury</td>\n",
       "      <td>Jubilee</td>\n",
       "      <td>2916.771558</td>\n",
       "      <td>12356</td>\n",
       "      <td>Wembley Park</td>\n",
       "      <td>Kingsbury</td>\n",
       "    </tr>\n",
       "    <tr>\n",
       "      <th>1</th>\n",
       "      <td>Wembley Park</td>\n",
       "      <td>Neasden</td>\n",
       "      <td>Jubilee</td>\n",
       "      <td>2353.165938</td>\n",
       "      <td>6744</td>\n",
       "      <td>Wembley Park</td>\n",
       "      <td>Neasden</td>\n",
       "    </tr>\n",
       "    <tr>\n",
       "      <th>2</th>\n",
       "      <td>Wembley Park</td>\n",
       "      <td>Preston Road</td>\n",
       "      <td>Metropolitan</td>\n",
       "      <td>1419.735166</td>\n",
       "      <td>36601</td>\n",
       "      <td>Wembley Park</td>\n",
       "      <td>Preston Road</td>\n",
       "    </tr>\n",
       "    <tr>\n",
       "      <th>3</th>\n",
       "      <td>Wembley Park</td>\n",
       "      <td>Finchley Road</td>\n",
       "      <td>Metropolitan</td>\n",
       "      <td>7266.373927</td>\n",
       "      <td>55216</td>\n",
       "      <td>Wembley Park</td>\n",
       "      <td>Finchley Road</td>\n",
       "    </tr>\n",
       "    <tr>\n",
       "      <th>4</th>\n",
       "      <td>Kingsbury</td>\n",
       "      <td>Queensbury</td>\n",
       "      <td>Jubilee</td>\n",
       "      <td>1245.995234</td>\n",
       "      <td>9419</td>\n",
       "      <td>Kingsbury</td>\n",
       "      <td>Queensbury</td>\n",
       "    </tr>\n",
       "    <tr>\n",
       "      <th>5</th>\n",
       "      <td>Queensbury</td>\n",
       "      <td>Canons Park</td>\n",
       "      <td>Jubilee</td>\n",
       "      <td>1693.307343</td>\n",
       "      <td>6385</td>\n",
       "      <td>Queensbury</td>\n",
       "      <td>Canons Park</td>\n",
       "    </tr>\n",
       "    <tr>\n",
       "      <th>6</th>\n",
       "      <td>Canons Park</td>\n",
       "      <td>Stanmore</td>\n",
       "      <td>Jubilee</td>\n",
       "      <td>1419.669476</td>\n",
       "      <td>3624</td>\n",
       "      <td>Canons Park</td>\n",
       "      <td>Stanmore</td>\n",
       "    </tr>\n",
       "    <tr>\n",
       "      <th>7</th>\n",
       "      <td>Stratford</td>\n",
       "      <td>West Ham</td>\n",
       "      <td>Jubilee</td>\n",
       "      <td>1673.509515</td>\n",
       "      <td>91801</td>\n",
       "      <td>Stratford</td>\n",
       "      <td>West Ham</td>\n",
       "    </tr>\n",
       "    <tr>\n",
       "      <th>8</th>\n",
       "      <td>Stratford</td>\n",
       "      <td>Mile End</td>\n",
       "      <td>Central</td>\n",
       "      <td>2805.001392</td>\n",
       "      <td>12010</td>\n",
       "      <td>Stratford</td>\n",
       "      <td>Mile End</td>\n",
       "    </tr>\n",
       "    <tr>\n",
       "      <th>9</th>\n",
       "      <td>Stratford</td>\n",
       "      <td>Leyton</td>\n",
       "      <td>Central</td>\n",
       "      <td>2131.342926</td>\n",
       "      <td>56082</td>\n",
       "      <td>Stratford</td>\n",
       "      <td>Leyton</td>\n",
       "    </tr>\n",
       "  </tbody>\n",
       "</table>\n",
       "</div>"
      ],
      "text/plain": [
       "         source         target     line_name       length  flows  \\\n",
       "0  Wembley Park      Kingsbury       Jubilee  2916.771558  12356   \n",
       "1  Wembley Park        Neasden       Jubilee  2353.165938   6744   \n",
       "2  Wembley Park   Preston Road  Metropolitan  1419.735166  36601   \n",
       "3  Wembley Park  Finchley Road  Metropolitan  7266.373927  55216   \n",
       "4     Kingsbury     Queensbury       Jubilee  1245.995234   9419   \n",
       "5    Queensbury    Canons Park       Jubilee  1693.307343   6385   \n",
       "6   Canons Park       Stanmore       Jubilee  1419.669476   3624   \n",
       "7     Stratford       West Ham       Jubilee  1673.509515  91801   \n",
       "8     Stratford       Mile End       Central  2805.001392  12010   \n",
       "9     Stratford         Leyton       Central  2131.342926  56082   \n",
       "\n",
       "     station_1_     station_2_  \n",
       "0  Wembley Park      Kingsbury  \n",
       "1  Wembley Park        Neasden  \n",
       "2  Wembley Park   Preston Road  \n",
       "3  Wembley Park  Finchley Road  \n",
       "4     Kingsbury     Queensbury  \n",
       "5    Queensbury    Canons Park  \n",
       "6   Canons Park       Stanmore  \n",
       "7     Stratford       West Ham  \n",
       "8     Stratford       Mile End  \n",
       "9     Stratford         Leyton  "
      ]
     },
     "execution_count": 12,
     "metadata": {},
     "output_type": "execute_result"
    }
   ],
   "source": [
    " #We can print the dataframe from the shapefile to check the data\n",
    "df = nx.to_pandas_edgelist(G)\n",
    "df[0:10]"
   ]
  },
  {
   "cell_type": "markdown",
   "id": "3d3e3d09-62d6-4cb1-af53-52446d6642cf",
   "metadata": {},
   "source": [
    "##  I. Topological network\n",
    "\n",
    "### I.1. Centrality measures:"
   ]
  },
  {
   "cell_type": "markdown",
   "id": "ccbcdbdb-e0bd-4995-a5d4-17388b5fa698",
   "metadata": {},
   "source": [
    "#### 1)Degree Centrality on nodes:"
   ]
  },
  {
   "cell_type": "code",
   "execution_count": 13,
   "id": "b507513d-8996-4f4a-9902-d80a167eebcc",
   "metadata": {},
   "outputs": [],
   "source": [
    "#  We can calculate the degree centrality using networkx function:\n",
    "deg_london =nx.degree_centrality(G)\n",
    "nx.set_node_attributes(G,dict(deg_london),'degree')"
   ]
  },
  {
   "cell_type": "code",
   "execution_count": 14,
   "id": "0fe36a4e-d518-4936-8243-5d4cdbf64f39",
   "metadata": {},
   "outputs": [
    {
     "data": {
      "text/html": [
       "<div>\n",
       "<style scoped>\n",
       "    .dataframe tbody tr th:only-of-type {\n",
       "        vertical-align: middle;\n",
       "    }\n",
       "\n",
       "    .dataframe tbody tr th {\n",
       "        vertical-align: top;\n",
       "    }\n",
       "\n",
       "    .dataframe thead th {\n",
       "        text-align: right;\n",
       "    }\n",
       "</style>\n",
       "<table border=\"1\" class=\"dataframe\">\n",
       "  <thead>\n",
       "    <tr style=\"text-align: right;\">\n",
       "      <th></th>\n",
       "      <th>station_name</th>\n",
       "      <th>degree</th>\n",
       "    </tr>\n",
       "  </thead>\n",
       "  <tbody>\n",
       "    <tr>\n",
       "      <th>Stratford</th>\n",
       "      <td>Stratford</td>\n",
       "      <td>0.0225</td>\n",
       "    </tr>\n",
       "    <tr>\n",
       "      <th>Bank and Monument</th>\n",
       "      <td>Bank and Monument</td>\n",
       "      <td>0.0200</td>\n",
       "    </tr>\n",
       "    <tr>\n",
       "      <th>King's Cross St. Pancras</th>\n",
       "      <td>King's Cross St. Pancras</td>\n",
       "      <td>0.0175</td>\n",
       "    </tr>\n",
       "    <tr>\n",
       "      <th>Baker Street</th>\n",
       "      <td>Baker Street</td>\n",
       "      <td>0.0175</td>\n",
       "    </tr>\n",
       "    <tr>\n",
       "      <th>Earl's Court</th>\n",
       "      <td>Earl's Court</td>\n",
       "      <td>0.0150</td>\n",
       "    </tr>\n",
       "    <tr>\n",
       "      <th>Oxford Circus</th>\n",
       "      <td>Oxford Circus</td>\n",
       "      <td>0.0150</td>\n",
       "    </tr>\n",
       "    <tr>\n",
       "      <th>Liverpool Street</th>\n",
       "      <td>Liverpool Street</td>\n",
       "      <td>0.0150</td>\n",
       "    </tr>\n",
       "    <tr>\n",
       "      <th>Waterloo</th>\n",
       "      <td>Waterloo</td>\n",
       "      <td>0.0150</td>\n",
       "    </tr>\n",
       "    <tr>\n",
       "      <th>Green Park</th>\n",
       "      <td>Green Park</td>\n",
       "      <td>0.0150</td>\n",
       "    </tr>\n",
       "    <tr>\n",
       "      <th>Canning Town</th>\n",
       "      <td>Canning Town</td>\n",
       "      <td>0.0150</td>\n",
       "    </tr>\n",
       "  </tbody>\n",
       "</table>\n",
       "</div>"
      ],
      "text/plain": [
       "                                      station_name  degree\n",
       "Stratford                                Stratford  0.0225\n",
       "Bank and Monument                Bank and Monument  0.0200\n",
       "King's Cross St. Pancras  King's Cross St. Pancras  0.0175\n",
       "Baker Street                          Baker Street  0.0175\n",
       "Earl's Court                          Earl's Court  0.0150\n",
       "Oxford Circus                        Oxford Circus  0.0150\n",
       "Liverpool Street                  Liverpool Street  0.0150\n",
       "Waterloo                                  Waterloo  0.0150\n",
       "Green Park                              Green Park  0.0150\n",
       "Canning Town                          Canning Town  0.0150"
      ]
     },
     "execution_count": 14,
     "metadata": {},
     "output_type": "execute_result"
    }
   ],
   "source": [
    "# To dataframe using the nodes as the index\n",
    "df = pd.DataFrame(index=G.nodes())\n",
    "df['station_name'] = pd.Series(nx.get_node_attributes(G, 'station_name'))\n",
    "df['degree'] = pd.Series(nx.get_node_attributes(G, 'degree'))\n",
    "\n",
    "df_sorted = df.sort_values([\"degree\"], ascending=False)\n",
    "df_sorted[0:10]"
   ]
  },
  {
   "cell_type": "markdown",
   "id": "397f1288-83c8-4145-a36a-5f35ab205be2",
   "metadata": {},
   "source": [
    "#### 2)Betweenness Centrality on nodes:"
   ]
  },
  {
   "cell_type": "code",
   "execution_count": 15,
   "id": "932015ac-6aaa-4ec8-b269-3ebe99397a0e",
   "metadata": {},
   "outputs": [
    {
     "data": {
      "text/html": [
       "<div>\n",
       "<style scoped>\n",
       "    .dataframe tbody tr th:only-of-type {\n",
       "        vertical-align: middle;\n",
       "    }\n",
       "\n",
       "    .dataframe tbody tr th {\n",
       "        vertical-align: top;\n",
       "    }\n",
       "\n",
       "    .dataframe thead th {\n",
       "        text-align: right;\n",
       "    }\n",
       "</style>\n",
       "<table border=\"1\" class=\"dataframe\">\n",
       "  <thead>\n",
       "    <tr style=\"text-align: right;\">\n",
       "      <th></th>\n",
       "      <th>station_name</th>\n",
       "      <th>betweenness_t</th>\n",
       "    </tr>\n",
       "  </thead>\n",
       "  <tbody>\n",
       "    <tr>\n",
       "      <th>Stratford</th>\n",
       "      <td>Stratford</td>\n",
       "      <td>23768.093434</td>\n",
       "    </tr>\n",
       "    <tr>\n",
       "      <th>Bank and Monument</th>\n",
       "      <td>Bank and Monument</td>\n",
       "      <td>23181.058947</td>\n",
       "    </tr>\n",
       "    <tr>\n",
       "      <th>Liverpool Street</th>\n",
       "      <td>Liverpool Street</td>\n",
       "      <td>21610.387049</td>\n",
       "    </tr>\n",
       "    <tr>\n",
       "      <th>King's Cross St. Pancras</th>\n",
       "      <td>King's Cross St. Pancras</td>\n",
       "      <td>20373.521465</td>\n",
       "    </tr>\n",
       "    <tr>\n",
       "      <th>Waterloo</th>\n",
       "      <td>Waterloo</td>\n",
       "      <td>19464.882323</td>\n",
       "    </tr>\n",
       "    <tr>\n",
       "      <th>Green Park</th>\n",
       "      <td>Green Park</td>\n",
       "      <td>17223.622114</td>\n",
       "    </tr>\n",
       "    <tr>\n",
       "      <th>Euston</th>\n",
       "      <td>Euston</td>\n",
       "      <td>16624.275469</td>\n",
       "    </tr>\n",
       "    <tr>\n",
       "      <th>Westminster</th>\n",
       "      <td>Westminster</td>\n",
       "      <td>16226.155916</td>\n",
       "    </tr>\n",
       "    <tr>\n",
       "      <th>Baker Street</th>\n",
       "      <td>Baker Street</td>\n",
       "      <td>15287.107612</td>\n",
       "    </tr>\n",
       "    <tr>\n",
       "      <th>Finchley Road</th>\n",
       "      <td>Finchley Road</td>\n",
       "      <td>13173.758009</td>\n",
       "    </tr>\n",
       "  </tbody>\n",
       "</table>\n",
       "</div>"
      ],
      "text/plain": [
       "                                      station_name  betweenness_t\n",
       "Stratford                                Stratford   23768.093434\n",
       "Bank and Monument                Bank and Monument   23181.058947\n",
       "Liverpool Street                  Liverpool Street   21610.387049\n",
       "King's Cross St. Pancras  King's Cross St. Pancras   20373.521465\n",
       "Waterloo                                  Waterloo   19464.882323\n",
       "Green Park                              Green Park   17223.622114\n",
       "Euston                                      Euston   16624.275469\n",
       "Westminster                            Westminster   16226.155916\n",
       "Baker Street                          Baker Street   15287.107612\n",
       "Finchley Road                        Finchley Road   13173.758009"
      ]
     },
     "execution_count": 15,
     "metadata": {},
     "output_type": "execute_result"
    }
   ],
   "source": [
    "### Topological betweenness centrality:\n",
    "\n",
    "#Let us compute the betweenness centrality for the network, without using weights:\n",
    "bet_london_t=nx.betweenness_centrality(G, normalized=False)\n",
    "# We can add these values to the nodes attributes:\n",
    "nx.set_node_attributes(G,bet_london_t,'betweenness_t')\n",
    "\n",
    "# To ataframe using the nodes as the index\n",
    "df = pd.DataFrame(index=G.nodes())\n",
    "df['station_name'] = pd.Series(nx.get_node_attributes(G, 'station_name'))\n",
    "df['betweenness_t'] = pd.Series(nx.get_node_attributes(G, 'betweenness_t'))\n",
    "\n",
    "df_sorted = df.sort_values([\"betweenness_t\"], ascending=False)\n",
    "df_sorted[0:10]"
   ]
  },
  {
   "cell_type": "markdown",
   "id": "7f365ee4-5357-4bfd-b2fc-0abcff9b7290",
   "metadata": {},
   "source": [
    "#### 3)Closeness Centrality on nodes"
   ]
  },
  {
   "cell_type": "code",
   "execution_count": 16,
   "id": "a42a48f4-12ef-4ad4-8951-c9b623344e52",
   "metadata": {},
   "outputs": [
    {
     "data": {
      "text/html": [
       "<div>\n",
       "<style scoped>\n",
       "    .dataframe tbody tr th:only-of-type {\n",
       "        vertical-align: middle;\n",
       "    }\n",
       "\n",
       "    .dataframe tbody tr th {\n",
       "        vertical-align: top;\n",
       "    }\n",
       "\n",
       "    .dataframe thead th {\n",
       "        text-align: right;\n",
       "    }\n",
       "</style>\n",
       "<table border=\"1\" class=\"dataframe\">\n",
       "  <thead>\n",
       "    <tr style=\"text-align: right;\">\n",
       "      <th></th>\n",
       "      <th>station_name</th>\n",
       "      <th>closeness_t</th>\n",
       "    </tr>\n",
       "  </thead>\n",
       "  <tbody>\n",
       "    <tr>\n",
       "      <th>Green Park</th>\n",
       "      <td>Green Park</td>\n",
       "      <td>0.114778</td>\n",
       "    </tr>\n",
       "    <tr>\n",
       "      <th>Bank and Monument</th>\n",
       "      <td>Bank and Monument</td>\n",
       "      <td>0.113572</td>\n",
       "    </tr>\n",
       "    <tr>\n",
       "      <th>King's Cross St. Pancras</th>\n",
       "      <td>King's Cross St. Pancras</td>\n",
       "      <td>0.113443</td>\n",
       "    </tr>\n",
       "    <tr>\n",
       "      <th>Westminster</th>\n",
       "      <td>Westminster</td>\n",
       "      <td>0.112549</td>\n",
       "    </tr>\n",
       "    <tr>\n",
       "      <th>Waterloo</th>\n",
       "      <td>Waterloo</td>\n",
       "      <td>0.112265</td>\n",
       "    </tr>\n",
       "    <tr>\n",
       "      <th>Oxford Circus</th>\n",
       "      <td>Oxford Circus</td>\n",
       "      <td>0.111204</td>\n",
       "    </tr>\n",
       "    <tr>\n",
       "      <th>Bond Street</th>\n",
       "      <td>Bond Street</td>\n",
       "      <td>0.110988</td>\n",
       "    </tr>\n",
       "    <tr>\n",
       "      <th>Farringdon</th>\n",
       "      <td>Farringdon</td>\n",
       "      <td>0.110742</td>\n",
       "    </tr>\n",
       "    <tr>\n",
       "      <th>Angel</th>\n",
       "      <td>Angel</td>\n",
       "      <td>0.110742</td>\n",
       "    </tr>\n",
       "    <tr>\n",
       "      <th>Moorgate</th>\n",
       "      <td>Moorgate</td>\n",
       "      <td>0.110314</td>\n",
       "    </tr>\n",
       "  </tbody>\n",
       "</table>\n",
       "</div>"
      ],
      "text/plain": [
       "                                      station_name  closeness_t\n",
       "Green Park                              Green Park     0.114778\n",
       "Bank and Monument                Bank and Monument     0.113572\n",
       "King's Cross St. Pancras  King's Cross St. Pancras     0.113443\n",
       "Westminster                            Westminster     0.112549\n",
       "Waterloo                                  Waterloo     0.112265\n",
       "Oxford Circus                        Oxford Circus     0.111204\n",
       "Bond Street                            Bond Street     0.110988\n",
       "Farringdon                              Farringdon     0.110742\n",
       "Angel                                        Angel     0.110742\n",
       "Moorgate                                  Moorgate     0.110314"
      ]
     },
     "execution_count": 16,
     "metadata": {},
     "output_type": "execute_result"
    }
   ],
   "source": [
    "#topological closeness centrality\n",
    "clos_t=nx.closeness_centrality(G)\n",
    "# We can add these values to the nodes attributes:\n",
    "nx.set_node_attributes(G,clos_t,'closeness_t')\n",
    "\n",
    "# To dataframe using the nodes as the index\n",
    "df = pd.DataFrame(index=G.nodes())\n",
    "df['station_name'] = pd.Series(nx.get_node_attributes(G, 'station_name'))\n",
    "df['closeness_t'] = pd.Series(nx.get_node_attributes(G, 'closeness_t'))\n",
    "\n",
    "df_sorted = df.sort_values([\"closeness_t\"], ascending=False)\n",
    "df_sorted[0:10]"
   ]
  },
  {
   "cell_type": "markdown",
   "id": "0a7262c3-6aef-4f03-8a73-cad3a2ffa13f",
   "metadata": {},
   "source": [
    "### I.3. Impact measures:"
   ]
  },
  {
   "cell_type": "markdown",
   "id": "37450ed6-be04-4b66-919b-cb861d6ae2b2",
   "metadata": {},
   "source": [
    "#### A) non-sequential removal:"
   ]
  },
  {
   "cell_type": "markdown",
   "id": "2aac9924-9fe4-4e42-b264-b2395d5303e4",
   "metadata": {},
   "source": [
    "##### 1)Degree centrality"
   ]
  },
  {
   "cell_type": "markdown",
   "id": "4fe7b48f-452e-492f-ab8f-46905291ad15",
   "metadata": {},
   "source": [
    "###### 1a）Largest connected component"
   ]
  },
  {
   "cell_type": "code",
   "execution_count": 17,
   "id": "142ce164-14f6-4de9-af1a-89425fd6fefc",
   "metadata": {},
   "outputs": [
    {
     "data": {
      "text/plain": [
       "401"
      ]
     },
     "execution_count": 17,
     "metadata": {},
     "output_type": "execute_result"
    }
   ],
   "source": [
    "G1a=G.copy()\n",
    "# Number of existing nodes:\n",
    "l1a=list(G1a.nodes)\n",
    "len(l1a)"
   ]
  },
  {
   "cell_type": "code",
   "execution_count": 18,
   "id": "577912b5-8288-464c-a38e-fa11aa7d162d",
   "metadata": {},
   "outputs": [
    {
     "data": {
      "text/plain": [
       "['Stratford',\n",
       " 'Bank and Monument',\n",
       " \"King's Cross St. Pancras\",\n",
       " 'Baker Street',\n",
       " \"Earl's Court\",\n",
       " 'Oxford Circus',\n",
       " 'Liverpool Street',\n",
       " 'Waterloo',\n",
       " 'Green Park',\n",
       " 'Canning Town']"
      ]
     },
     "execution_count": 18,
     "metadata": {},
     "output_type": "execute_result"
    }
   ],
   "source": [
    "degree_df=pd.DataFrame.from_dict(dict(deg_london ),columns=['deg_london '],orient='index')\n",
    "node1=list(degree_df.sort_values('deg_london ',axis = 0,ascending = False).index)\n",
    "max_1=node1[0:10]\n",
    "\n",
    "max_1"
   ]
  },
  {
   "cell_type": "code",
   "execution_count": 19,
   "id": "9e283efb-7d14-4eef-b4c2-6870740a69af",
   "metadata": {},
   "outputs": [
    {
     "name": "stdout",
     "output_type": "stream",
     "text": [
      "[1, 3, 3, 3, 4, 4, 5, 6, 6, 6, 8]\n",
      "[401, 379, 378, 377, 374, 373, 371, 365, 364, 363, 349]\n",
      "[100.0, 94.75, 94.73684210526315, 94.72361809045226, 94.20654911838791, 94.1919191919192, 93.92405063291139, 92.63959390862944, 92.6208651399491, 92.60204081632652, 89.25831202046037]\n"
     ]
    }
   ],
   "source": [
    "#If we want to remove the node with the max value of degree centrality:\n",
    "result_no_of_nodes1=[]\n",
    "result_size1=[]\n",
    "result_percent1=[]\n",
    "\n",
    "for i in range(0,11):\n",
    "    \n",
    "# number of connected components\n",
    "    no_of_nodes=nx.number_connected_components(G1a)\n",
    "    result_no_of_nodes1.append(no_of_nodes)\n",
    "    \n",
    "# let's subset this graph to the largest connected component\n",
    "    Gcc1a = sorted(nx.connected_components(G1a), key=len, reverse=True)\n",
    "    Gsub1a = G1a.subgraph(Gcc1a[0])\n",
    "    size = Gsub1a.number_of_nodes()\n",
    "    result_size1.append(size)\n",
    "    \n",
    "# calculate the percentage of nodes present in the largest connected components\n",
    "    percent_lcc1a = (len(Gsub1a.nodes)/len(G1a.nodes)) * 100\n",
    "    result_percent1.append(percent_lcc1a)\n",
    "#remove the node    \n",
    "    G1a.remove_nodes_from([node1[i]])\n",
    "    \n",
    "print(result_no_of_nodes1)\n",
    "print(result_size1)\n",
    "print(result_percent1)"
   ]
  },
  {
   "cell_type": "markdown",
   "id": "e0ea8ba2-3216-4130-b4b5-11a8e8005bf5",
   "metadata": {},
   "source": [
    "###### 1b）Global efficiency"
   ]
  },
  {
   "cell_type": "code",
   "execution_count": 20,
   "id": "0709788b-9c96-488b-aa41-21d8ada018c5",
   "metadata": {},
   "outputs": [
    {
     "data": {
      "text/plain": [
       "401"
      ]
     },
     "execution_count": 20,
     "metadata": {},
     "output_type": "execute_result"
    }
   ],
   "source": [
    "G1b=G.copy()\n",
    "# Number of existing nodes:\n",
    "l1b=list(G1b.nodes)\n",
    "len(l1b)"
   ]
  },
  {
   "cell_type": "code",
   "execution_count": 21,
   "id": "5c6a1b1c-fab5-4ebd-8073-0516d3213276",
   "metadata": {},
   "outputs": [
    {
     "name": "stdout",
     "output_type": "stream",
     "text": [
      "[0.1012561935972123, 0.08891736066510689, 0.08586164448742485, 0.08028700838265396, 0.07570039409751211, 0.0740361229198828, 0.07274535237569829, 0.07094844226118287, 0.06898194318071488, 0.06825731584971681, 0.06338447666647608]\n"
     ]
    }
   ],
   "source": [
    "#If we want to remove the node with the max value of betweenness centrality:\n",
    "def global_efficiency(G1b):\n",
    "        n = len(G1b)\n",
    "        denom = n * (n - 1)\n",
    "        if denom != 0:\n",
    "            lengths = nx.all_pairs_shortest_path_length(G1b)\n",
    "            g_eff1 = 0\n",
    "            for source, targets in lengths:\n",
    "                for target, distance in targets.items():\n",
    "                    if distance > 0:\n",
    "                        g_eff1 += 1 / distance\n",
    "            g_eff1 /= denom\n",
    "        # g_eff = sum(1 / d for s, tgts in lengths\n",
    "        #                   for t, d in tgts.items() if d > 0) / denom\n",
    "        else:\n",
    "            g_eff1 = 0\n",
    "    # TODO This can be made more efficient by computing all pairs shortest\n",
    "    # path lengths in parallel.\n",
    "        return g_eff1\n",
    "\n",
    "result_global_eff1=[]    \n",
    "for i in range(11):\n",
    "    result_global_eff1.append(global_efficiency(G1b))\n",
    "    G1b.remove_nodes_from([node1[i]])\n",
    "\n",
    "print(result_global_eff1)"
   ]
  },
  {
   "cell_type": "markdown",
   "id": "d00fdcaa-7e3c-46a2-8c43-5fc0d01073b9",
   "metadata": {},
   "source": [
    "##### 2)Betweenness centrality"
   ]
  },
  {
   "cell_type": "markdown",
   "id": "931ce594-e0ce-4b8d-8a1a-dda5c9995769",
   "metadata": {},
   "source": [
    "###### 2a）Largest connected component"
   ]
  },
  {
   "cell_type": "code",
   "execution_count": 22,
   "id": "33cacafa-8bd5-4cc9-8b8f-320a93f318f4",
   "metadata": {},
   "outputs": [],
   "source": [
    "G2a=G.copy()"
   ]
  },
  {
   "cell_type": "code",
   "execution_count": 23,
   "id": "613ba8a4-613f-4f84-8faa-70dbbbdf4402",
   "metadata": {},
   "outputs": [
    {
     "data": {
      "text/plain": [
       "['Stratford',\n",
       " 'Bank and Monument',\n",
       " 'Liverpool Street',\n",
       " \"King's Cross St. Pancras\",\n",
       " 'Waterloo',\n",
       " 'Green Park',\n",
       " 'Euston',\n",
       " 'Westminster',\n",
       " 'Baker Street',\n",
       " 'Finchley Road']"
      ]
     },
     "execution_count": 23,
     "metadata": {},
     "output_type": "execute_result"
    }
   ],
   "source": [
    "between_df=pd.DataFrame.from_dict(dict(bet_london_t),columns=['bet_london_t'],orient='index')\n",
    "node2=list(between_df.sort_values('bet_london_t',axis = 0,ascending = False).index)\n",
    "max_2=node2[0:10]\n",
    "\n",
    "max_2"
   ]
  },
  {
   "cell_type": "code",
   "execution_count": 24,
   "id": "95f4ab12-5597-41d2-835a-c3ab7cf59d1d",
   "metadata": {},
   "outputs": [
    {
     "data": {
      "text/plain": [
       "401"
      ]
     },
     "execution_count": 24,
     "metadata": {},
     "output_type": "execute_result"
    }
   ],
   "source": [
    "# Number of existing nodes:\n",
    "l2a=list(G2a.nodes)\n",
    "len(l2a)"
   ]
  },
  {
   "cell_type": "code",
   "execution_count": 25,
   "id": "1ba11627-0ba0-422d-b82f-9b6019aa65a6",
   "metadata": {},
   "outputs": [
    {
     "name": "stdout",
     "output_type": "stream",
     "text": [
      "[1, 3, 3, 3, 4, 4, 4, 5, 5, 6, 7]\n",
      "[401, 379, 378, 377, 371, 370, 369, 346, 345, 342, 339]\n",
      "[100.0, 94.75, 94.73684210526315, 94.72361809045226, 93.45088161209067, 93.43434343434343, 93.41772151898734, 87.81725888324873, 87.78625954198473, 87.24489795918367, 86.70076726342711]\n"
     ]
    }
   ],
   "source": [
    "#If we want to remove the node with the max value of between centrality:\n",
    "result_no_of_nodes2=[]\n",
    "result_size2=[]\n",
    "result_percent2=[]\n",
    "\n",
    "for i in range(0,11):\n",
    "    \n",
    "# number of connected components\n",
    "    no_of_nodes=nx.number_connected_components(G2a)\n",
    "    result_no_of_nodes2.append(no_of_nodes)\n",
    "    \n",
    "# let's subset this graph to the largest connected component\n",
    "    Gcc2a = sorted(nx.connected_components(G2a), key=len, reverse=True)\n",
    "    Gsub2a = G2a.subgraph(Gcc2a[0])\n",
    "    size = Gsub2a.number_of_nodes()\n",
    "    result_size2.append(size)\n",
    "    \n",
    "# calculate the percentage of nodes present in the largest connected components\n",
    "    percent_lcc2a = (len(Gsub2a.nodes)/len(G2a.nodes)) * 100\n",
    "    result_percent2.append(percent_lcc2a)\n",
    "    \n",
    "    G2a.remove_nodes_from([node2[i]])\n",
    "    \n",
    "print(result_no_of_nodes2)\n",
    "print(result_size2)\n",
    "print(result_percent2)"
   ]
  },
  {
   "cell_type": "markdown",
   "id": "aff004de-f80b-4f89-accb-e7f39dfe4e44",
   "metadata": {},
   "source": [
    "###### 2b）Global efficiency"
   ]
  },
  {
   "cell_type": "code",
   "execution_count": 26,
   "id": "b5670f35-9929-454b-8805-684b5f95f6c7",
   "metadata": {},
   "outputs": [],
   "source": [
    "G2b=G.copy()"
   ]
  },
  {
   "cell_type": "code",
   "execution_count": 27,
   "id": "82b94bce-435a-4d44-ae1c-03706952912a",
   "metadata": {},
   "outputs": [
    {
     "data": {
      "text/plain": [
       "401"
      ]
     },
     "execution_count": 27,
     "metadata": {},
     "output_type": "execute_result"
    }
   ],
   "source": [
    "# Number of existing nodes:\n",
    "l2b=list(G2b.nodes)\n",
    "len(l2b)"
   ]
  },
  {
   "cell_type": "code",
   "execution_count": 28,
   "id": "13e5f88f-840f-44a9-beb3-6c0a5602bac2",
   "metadata": {},
   "outputs": [
    {
     "name": "stdout",
     "output_type": "stream",
     "text": [
      "[0.1012561935972123, 0.08891736066510689, 0.08586164448742485, 0.08496349266423939, 0.07849775440713821, 0.07594226578366223, 0.07415154167648695, 0.06820564659789057, 0.06765950327361094, 0.064700058053009, 0.06313903700825897]\n"
     ]
    }
   ],
   "source": [
    "result_global_eff2=[]    \n",
    "for i in range(11):\n",
    "    result_global_eff2.append(global_efficiency(G2b))\n",
    "    G2b.remove_nodes_from([node2[i]])\n",
    "\n",
    "print(result_global_eff2)"
   ]
  },
  {
   "cell_type": "markdown",
   "id": "a1b32de9-d0e2-40d2-a105-a6e178fe60a2",
   "metadata": {},
   "source": [
    "##### 3)Closeness centrality"
   ]
  },
  {
   "cell_type": "markdown",
   "id": "308c9e1e-f18d-4f6b-a131-c4c2f519cace",
   "metadata": {},
   "source": [
    "###### 3a）Largest connected component"
   ]
  },
  {
   "cell_type": "code",
   "execution_count": 29,
   "id": "f8334000-9528-442a-89db-aebb47ac89ae",
   "metadata": {},
   "outputs": [
    {
     "data": {
      "text/plain": [
       "401"
      ]
     },
     "execution_count": 29,
     "metadata": {},
     "output_type": "execute_result"
    }
   ],
   "source": [
    "G3a=G.copy()\n",
    "# Number of existing nodes:\n",
    "l3a=list(G3a.nodes)\n",
    "len(l3a)"
   ]
  },
  {
   "cell_type": "code",
   "execution_count": 30,
   "id": "db3e3ade-330a-424a-9d42-6ecd4e914914",
   "metadata": {},
   "outputs": [
    {
     "data": {
      "text/plain": [
       "['Green Park',\n",
       " 'Bank and Monument',\n",
       " \"King's Cross St. Pancras\",\n",
       " 'Westminster',\n",
       " 'Waterloo',\n",
       " 'Oxford Circus',\n",
       " 'Bond Street',\n",
       " 'Farringdon',\n",
       " 'Angel',\n",
       " 'Moorgate']"
      ]
     },
     "execution_count": 30,
     "metadata": {},
     "output_type": "execute_result"
    }
   ],
   "source": [
    "closeness_df=pd.DataFrame.from_dict(dict(clos_t),columns=['clos_t'],orient='index')\n",
    "node3=list(closeness_df.sort_values('clos_t',axis = 0,ascending = False).index)\n",
    "max_3=node3[0:10]\n",
    "\n",
    "max_3"
   ]
  },
  {
   "cell_type": "code",
   "execution_count": 31,
   "id": "22365a4b-4125-47df-a565-7e19c1a2e7ab",
   "metadata": {},
   "outputs": [
    {
     "name": "stdout",
     "output_type": "stream",
     "text": [
      "[1, 1, 1, 1, 1, 1, 1, 1, 1, 1, 3]\n",
      "[401, 400, 399, 398, 397, 396, 395, 394, 393, 392, 389]\n",
      "[100.0, 100.0, 100.0, 100.0, 100.0, 100.0, 100.0, 100.0, 100.0, 100.0, 99.48849104859335]\n"
     ]
    }
   ],
   "source": [
    "#If we want to remove the node with the max value of closeness centrality:\n",
    "result_no_of_nodes3=[]\n",
    "result_size3=[]\n",
    "result_percent3=[]\n",
    "\n",
    "for i in range(0,11):\n",
    "    \n",
    "# number of connected components\n",
    "    no_of_nodes=nx.number_connected_components(G3a)\n",
    "    result_no_of_nodes3.append(no_of_nodes)\n",
    "    \n",
    "# let's subset this graph to the largest connected component\n",
    "    Gcc3a = sorted(nx.connected_components(G3a), key=len, reverse=True)\n",
    "    Gsub3a = G3a.subgraph(Gcc3a[0])\n",
    "    size = Gsub3a.number_of_nodes()\n",
    "    result_size3.append(size)\n",
    "    \n",
    "# calculate the percentage of nodes present in the largest connected components\n",
    "    percent_lcc3a = (len(Gsub3a.nodes)/len(G3a.nodes)) * 100\n",
    "    result_percent3.append(percent_lcc3a)\n",
    "    \n",
    "    G3a.remove_nodes_from([node3[i]])\n",
    "        \n",
    "print(result_no_of_nodes3)\n",
    "print(result_size3)\n",
    "print(result_percent3)"
   ]
  },
  {
   "cell_type": "markdown",
   "id": "9b428dfc-ecd3-494e-b4f1-16557d1c9480",
   "metadata": {},
   "source": [
    "###### 3b）Global efficiency"
   ]
  },
  {
   "cell_type": "code",
   "execution_count": 32,
   "id": "98f26c3d-b2a3-449b-81b6-e92b07f6fe8e",
   "metadata": {},
   "outputs": [],
   "source": [
    "G3b=G.copy()"
   ]
  },
  {
   "cell_type": "code",
   "execution_count": 33,
   "id": "f4cb4cdf-7a2b-435a-9876-aa206899b220",
   "metadata": {},
   "outputs": [
    {
     "data": {
      "text/plain": [
       "401"
      ]
     },
     "execution_count": 33,
     "metadata": {},
     "output_type": "execute_result"
    }
   ],
   "source": [
    "# Number of existing nodes:\n",
    "l3b=list(G3b.nodes)\n",
    "len(l3b)"
   ]
  },
  {
   "cell_type": "code",
   "execution_count": 34,
   "id": "cb021ddb-0270-482a-bf48-9298721629be",
   "metadata": {},
   "outputs": [
    {
     "name": "stdout",
     "output_type": "stream",
     "text": [
      "[0.1012561935972123, 0.09918991960788402, 0.09487232544791133, 0.08793385149140875, 0.08737164566976727, 0.08485943799789313, 0.08278135073141742, 0.08258086417012774, 0.08260040537396239, 0.08262233108950982, 0.08166991436767818]\n"
     ]
    }
   ],
   "source": [
    "result_global_eff3=[]    \n",
    "for i in range(11):\n",
    "    result_global_eff3.append(global_efficiency(G3b))\n",
    "    G3b.remove_nodes_from([node3[i]])\n",
    "\n",
    "print(result_global_eff3)"
   ]
  },
  {
   "cell_type": "markdown",
   "id": "e9a428a0-5bfc-417a-9626-1434e6645f07",
   "metadata": {},
   "source": [
    "#### B) Sequential removal:"
   ]
  },
  {
   "cell_type": "markdown",
   "id": "c13224bb-9df0-4b3f-b790-6e943e87adca",
   "metadata": {},
   "source": [
    "##### 1)Degree centrality"
   ]
  },
  {
   "cell_type": "markdown",
   "id": "f856cbeb-0dbb-4bca-b691-27a71dd245fe",
   "metadata": {},
   "source": [
    "###### 1a）Largest connected component"
   ]
  },
  {
   "cell_type": "code",
   "execution_count": 35,
   "id": "77c0243b-7a25-4b60-bfa6-ed29d191f72f",
   "metadata": {},
   "outputs": [
    {
     "data": {
      "text/plain": [
       "401"
      ]
     },
     "execution_count": 35,
     "metadata": {},
     "output_type": "execute_result"
    }
   ],
   "source": [
    "G4a=G.copy()\n",
    "# Number of existing nodes:\n",
    "l4a=list(G4a.nodes)\n",
    "len(l4a)"
   ]
  },
  {
   "cell_type": "code",
   "execution_count": 36,
   "id": "11aa04f8-cc53-4564-bfe8-4fe191207ad5",
   "metadata": {},
   "outputs": [
    {
     "name": "stdout",
     "output_type": "stream",
     "text": [
      "['Stratford', 'Bank and Monument', 'Baker Street', \"King's Cross St. Pancras\", \"Earl's Court\", 'Green Park', 'Canning Town', 'Willesden Junction', 'Turnham Green', 'Oxford Circus', 'Waterloo']\n",
      "[1, 3, 3, 3, 4, 4, 4, 6, 7, 8, 9]\n",
      "[401, 379, 378, 377, 374, 373, 372, 358, 344, 338, 336]\n",
      "[100.0, 94.75, 94.73684210526315, 94.72361809045226, 94.20654911838791, 94.1919191919192, 94.17721518987342, 90.86294416243655, 87.53180661577609, 86.22448979591837, 85.93350383631714]\n"
     ]
    }
   ],
   "source": [
    "#If we want to remove the node with the max value of closeness centrality:\n",
    "remove4=[]\n",
    "result_no_of_nodes4=[]\n",
    "result_size4=[]\n",
    "result_percent4=[]\n",
    "\n",
    "for i in range(0,11):\n",
    "    deg_london=nx.degree_centrality(G4a)\n",
    "    nx.set_node_attributes(G4a,dict(deg_london),'degree')\n",
    "    degree_df=pd.DataFrame.from_dict(dict(deg_london),columns=['degree'],orient='index')\n",
    "    node4=list(degree_df.sort_values('degree',axis = 0,ascending = False).index)\n",
    "    remove4.append(node4[0])\n",
    "    \n",
    "# number of connected components\n",
    "    no_of_nodes=nx.number_connected_components(G4a)\n",
    "    result_no_of_nodes4.append(no_of_nodes)\n",
    "    \n",
    "# let's subset this graph to the largest connected component\n",
    "    Gcc4a = sorted(nx.connected_components(G4a), key=len, reverse=True)\n",
    "    Gsub4a = G4a.subgraph(Gcc4a[0])\n",
    "    size = Gsub4a.number_of_nodes()\n",
    "    result_size4.append(size)\n",
    "    \n",
    "# calculate the percentage of nodes present in the largest connected components\n",
    "    percent_lcc4a = (len(Gsub4a.nodes)/len(G4a.nodes)) * 100\n",
    "    result_percent4.append(percent_lcc4a)\n",
    "    \n",
    "    G4a.remove_nodes_from([node4[0]])\n",
    "        \n",
    "print(remove4)    \n",
    "print(result_no_of_nodes4)\n",
    "print(result_size4)\n",
    "print(result_percent4) "
   ]
  },
  {
   "cell_type": "markdown",
   "id": "e770b0a1-09d2-4f7a-9812-d4a642885521",
   "metadata": {},
   "source": [
    "###### 1b）Global efficiency"
   ]
  },
  {
   "cell_type": "markdown",
   "id": "f478c6bc-2e30-49c3-bc27-c70b72c1b4df",
   "metadata": {},
   "source": [
    " "
   ]
  },
  {
   "cell_type": "code",
   "execution_count": 37,
   "id": "f776b598-69ef-4108-befe-a867aa644079",
   "metadata": {},
   "outputs": [
    {
     "data": {
      "text/plain": [
       "401"
      ]
     },
     "execution_count": 37,
     "metadata": {},
     "output_type": "execute_result"
    }
   ],
   "source": [
    "G4b=G.copy()\n",
    "# Number of existing nodes:\n",
    "l4b=list(G4b.nodes)\n",
    "len(l4b)"
   ]
  },
  {
   "cell_type": "code",
   "execution_count": 38,
   "id": "fc213059-3e57-432e-837d-f56e467982c1",
   "metadata": {},
   "outputs": [
    {
     "name": "stdout",
     "output_type": "stream",
     "text": [
      "[0.1012561935972123, 0.08891736066510689, 0.08586164448742485, 0.08203328759057034, 0.07570039409751211, 0.0740361229198828, 0.07300367580539921, 0.0677717604548151, 0.06012752519564628, 0.05814535563710196, 0.05685866730429425]\n",
      "['Stratford', 'Bank and Monument', 'Baker Street', \"King's Cross St. Pancras\", \"Earl's Court\", 'Green Park', 'Canning Town', 'Willesden Junction', 'Turnham Green', 'Oxford Circus', 'Waterloo']\n"
     ]
    }
   ],
   "source": [
    "result_global_eff4=[]\n",
    "remove4b=[]\n",
    "for i in range(11):\n",
    "    deg_london=nx.degree_centrality(G4b)\n",
    "    nx.set_node_attributes(G4b,dict(deg_london),'degree')\n",
    "    degree_df=pd.DataFrame.from_dict(dict(deg_london),columns=['degree'],orient='index')\n",
    "    node4=list(degree_df.sort_values('degree',axis = 0,ascending = False).index)\n",
    "    remove4b.append(node4[0])\n",
    "\n",
    "    result_global_eff4.append(global_efficiency(G4b))\n",
    "    G4b.remove_nodes_from([node4[0]])\n",
    "\n",
    "print(result_global_eff4)\n",
    "print(remove4b)"
   ]
  },
  {
   "cell_type": "markdown",
   "id": "95b86ab2-d75d-48b5-b4d4-7d7991823d05",
   "metadata": {},
   "source": [
    "##### 2)Betweenness centrality"
   ]
  },
  {
   "cell_type": "markdown",
   "id": "84375444-0125-4257-b2e0-1b17ad8fb112",
   "metadata": {},
   "source": [
    "###### 2a）Largest connected component"
   ]
  },
  {
   "cell_type": "code",
   "execution_count": 39,
   "id": "1efd6d50-12cc-46a4-9fc7-3b8fdb811fd7",
   "metadata": {},
   "outputs": [
    {
     "data": {
      "text/plain": [
       "401"
      ]
     },
     "execution_count": 39,
     "metadata": {},
     "output_type": "execute_result"
    }
   ],
   "source": [
    "G5a=G.copy()\n",
    "# Number of existing nodes:\n",
    "l5a=list(G5a.nodes)\n",
    "len(l5a)"
   ]
  },
  {
   "cell_type": "code",
   "execution_count": 40,
   "id": "dbdf4dfa-0dbe-475b-92da-e8c31c6e6543",
   "metadata": {},
   "outputs": [
    {
     "name": "stdout",
     "output_type": "stream",
     "text": [
      "['Stratford', \"King's Cross St. Pancras\", 'Waterloo', 'Bank and Monument', 'Canada Water', 'West Hampstead', \"Earl's Court\", \"Shepherd's Bush\", 'Euston', 'Baker Street', 'Acton Town']\n",
      "[1, 3, 3, 3, 3, 3, 4, 4, 5, 6, 7]\n",
      "[401, 379, 378, 377, 376, 375, 227, 226, 196, 173, 170]\n",
      "[100.0, 94.75, 94.73684210526315, 94.72361809045226, 94.7103274559194, 94.6969696969697, 57.46835443037974, 57.360406091370564, 49.87277353689568, 44.13265306122449, 43.47826086956522]\n"
     ]
    }
   ],
   "source": [
    "#If we want to remove the node with the max value of betweenness centrality:\n",
    "remove5=[]\n",
    "result_no_of_nodes5=[]\n",
    "result_size5=[]\n",
    "result_percent5=[]\n",
    "\n",
    "\n",
    "for i in range(0,11):\n",
    "    bet_london_t=nx.betweenness_centrality(G5a)\n",
    "    nx.set_node_attributes(G5a,dict(bet_london_t),'betweenness_t')\n",
    "    between_df=pd.DataFrame.from_dict(dict(bet_london_t),columns=['betweenness_t'],orient='index')\n",
    "    node5=list(between_df.sort_values('betweenness_t',axis = 0,ascending = False).index)\n",
    "    remove5.append(node5[0])\n",
    "    \n",
    "# number of connected components\n",
    "    no_of_nodes=nx.number_connected_components(G5a)\n",
    "    result_no_of_nodes5.append(no_of_nodes)\n",
    "    \n",
    "# let's subset this graph to the largest connected component\n",
    "    Gcc5a = sorted(nx.connected_components(G5a), key=len, reverse=True)\n",
    "    Gsub5a = G5a.subgraph(Gcc5a[0])\n",
    "    size = Gsub5a.number_of_nodes()\n",
    "    result_size5.append(size)\n",
    "    \n",
    "# calculate the percentage of nodes present in the largest connected components\n",
    "    percent_lcc5a = (len(Gsub5a.nodes)/len(G5a.nodes)) * 100\n",
    "    result_percent5.append(percent_lcc5a)\n",
    "    \n",
    "    G5a.remove_nodes_from([node5[0]])\n",
    "    \n",
    "print(remove5)    \n",
    "print(result_no_of_nodes5)\n",
    "print(result_size5)\n",
    "print(result_percent5)"
   ]
  },
  {
   "cell_type": "markdown",
   "id": "b21d2a6f-20f3-4c19-ba0f-896c1cb06ce1",
   "metadata": {},
   "source": [
    "###### 2b）Global efficiency"
   ]
  },
  {
   "cell_type": "code",
   "execution_count": 41,
   "id": "2a66f9c6-dcbd-433c-91d7-cbfbaa979025",
   "metadata": {},
   "outputs": [
    {
     "data": {
      "text/plain": [
       "401"
      ]
     },
     "execution_count": 41,
     "metadata": {},
     "output_type": "execute_result"
    }
   ],
   "source": [
    "G5b=G.copy()\n",
    "# Number of existing nodes:\n",
    "l5b=list(G5b.nodes)\n",
    "len(l5b)"
   ]
  },
  {
   "cell_type": "code",
   "execution_count": 42,
   "id": "1cdd9c7a-4aea-49b1-a0a9-907328ea86d8",
   "metadata": {},
   "outputs": [
    {
     "name": "stdout",
     "output_type": "stream",
     "text": [
      "[0.1012561935972123, 0.08891736066510689, 0.08460293133575152, 0.08182895253292936, 0.07767794342812263, 0.07283234083472483, 0.053210203984026455, 0.05165629952389727, 0.0458442134055722, 0.04163076968121037, 0.0381637040943985]\n",
      "[['Stratford'], [\"King's Cross St. Pancras\"], ['Waterloo'], ['Bank and Monument'], ['Canada Water'], ['West Hampstead'], [\"Earl's Court\"], [\"Shepherd's Bush\"], ['Euston'], ['Baker Street'], ['Acton Town']]\n"
     ]
    }
   ],
   "source": [
    "result_global_eff5=[] \n",
    "remove5b=[]\n",
    "for i in range(11):\n",
    "    bet_london_t=nx.betweenness_centrality(G5b)\n",
    "    nx.set_node_attributes(G5b,dict(bet_london_t),'betweenness_t')\n",
    "    between_df=pd.DataFrame.from_dict(dict(bet_london_t),columns=['betweenness_t'],orient='index')\n",
    "    node5=list(between_df.sort_values('betweenness_t',axis = 0,ascending = False).index)\n",
    "    remove5b.append([node5[0]])\n",
    "    \n",
    "    result_global_eff5.append(global_efficiency(G5b))\n",
    "    G5b.remove_nodes_from([node5[0]])\n",
    "\n",
    "print(result_global_eff5)\n",
    "print(remove5b)"
   ]
  },
  {
   "cell_type": "markdown",
   "id": "17fa48df-fecf-4e85-b328-750359b218d4",
   "metadata": {},
   "source": [
    "##### 3)Closeness centrality"
   ]
  },
  {
   "cell_type": "markdown",
   "id": "b056f65f-b18d-40e0-885a-1596e78fc0a0",
   "metadata": {},
   "source": [
    "###### 3a）Largest connected component"
   ]
  },
  {
   "cell_type": "code",
   "execution_count": 43,
   "id": "7bd3c88e-f873-44de-bbed-f36dce0249ba",
   "metadata": {},
   "outputs": [
    {
     "data": {
      "text/plain": [
       "401"
      ]
     },
     "execution_count": 43,
     "metadata": {},
     "output_type": "execute_result"
    }
   ],
   "source": [
    "G6a=G.copy()\n",
    "# Number of existing nodes:\n",
    "l6a=list(G6a.nodes)\n",
    "len(l6a)"
   ]
  },
  {
   "cell_type": "code",
   "execution_count": 44,
   "id": "df04badd-72b1-4e7c-8780-fdc36c412efb",
   "metadata": {},
   "outputs": [
    {
     "name": "stdout",
     "output_type": "stream",
     "text": [
      "['Green Park', \"King's Cross St. Pancras\", 'Waterloo', 'Bank and Monument', 'West Hampstead', 'Canada Water', 'Stratford', \"Earl's Court\", \"Shepherd's Bush\", 'Oxford Circus', 'Paddington']\n",
      "[1, 1, 1, 1, 1, 1, 2, 4, 4, 5, 5]\n",
      "[401, 400, 399, 398, 397, 396, 226, 226, 225, 195, 194]\n",
      "[100.0, 100.0, 100.0, 100.0, 100.0, 100.0, 57.21518987341773, 57.360406091370564, 57.25190839694656, 49.744897959183675, 49.61636828644501]\n"
     ]
    }
   ],
   "source": [
    "#If we want to remove the node with the max value of closeness centrality:\n",
    "remove6=[]\n",
    "result_no_of_nodes6=[]\n",
    "result_size6=[]\n",
    "result_percent6=[]\n",
    "\n",
    "for i in range(0,11):\n",
    "    clos_t=nx.closeness_centrality(G6a)\n",
    "    nx.set_node_attributes(G6a,dict(clos_t),'closeness_t')\n",
    "    closeness_df=pd.DataFrame.from_dict(dict(clos_t),columns=['closeness_t'],orient='index')\n",
    "    node6=list(closeness_df.sort_values('closeness_t',axis = 0,ascending = False).index)\n",
    "    remove6.append(node6[0])\n",
    "    \n",
    "# number of connected components\n",
    "    no_of_nodes=nx.number_connected_components(G6a)\n",
    "    result_no_of_nodes6.append(no_of_nodes)\n",
    "    \n",
    "# let's subset this graph to the largest connected component\n",
    "    Gcc6a = sorted(nx.connected_components(G6a), key=len, reverse=True)\n",
    "    Gsub6a = G6a.subgraph(Gcc6a[0])\n",
    "    size = Gsub6a.number_of_nodes()\n",
    "    result_size6.append(size)\n",
    "    \n",
    "# calculate the percentage of nodes present in the largest connected components\n",
    "    percent_lcc6a = (len(Gsub6a.nodes)/len(G6a.nodes)) * 100\n",
    "    result_percent6.append(percent_lcc6a)\n",
    "    \n",
    "    G6a.remove_nodes_from([node6[0]])   \n",
    "\n",
    "print(remove6)    \n",
    "print(result_no_of_nodes6)\n",
    "print(result_size6)\n",
    "print(result_percent6)"
   ]
  },
  {
   "cell_type": "markdown",
   "id": "f5e458a6-e841-4403-be05-73a5b5b6825a",
   "metadata": {},
   "source": [
    "###### 3b）Global efficiency"
   ]
  },
  {
   "cell_type": "code",
   "execution_count": 45,
   "id": "1708cc6a-b4df-4500-bb8b-b15ed4fa07f4",
   "metadata": {},
   "outputs": [
    {
     "data": {
      "text/plain": [
       "401"
      ]
     },
     "execution_count": 45,
     "metadata": {},
     "output_type": "execute_result"
    }
   ],
   "source": [
    "G6b=G.copy()\n",
    "# Number of existing nodes:\n",
    "l6b=list(G6b.nodes)\n",
    "len(l6b)"
   ]
  },
  {
   "cell_type": "code",
   "execution_count": 46,
   "id": "8d912cfa-d8cc-4e76-8f54-0d1d43f8daa3",
   "metadata": {},
   "outputs": [
    {
     "name": "stdout",
     "output_type": "stream",
     "text": [
      "[0.1012561935972123, 0.09918991960788402, 0.09443475025566316, 0.09181648060183005, 0.08542563066911478, 0.08054424756502003, 0.05810104159173278, 0.051883620553389555, 0.05035000093626794, 0.04439458727102797, 0.04295771061337044]\n",
      "[['Green Park'], [\"King's Cross St. Pancras\"], ['Waterloo'], ['Bank and Monument'], ['West Hampstead'], ['Canada Water'], ['Stratford'], [\"Earl's Court\"], [\"Shepherd's Bush\"], ['Oxford Circus'], ['Paddington']]\n"
     ]
    }
   ],
   "source": [
    "result_global_eff6=[]\n",
    "remove6b=[]\n",
    "for i in range(11):\n",
    "    clos_t=nx.closeness_centrality(G6b)\n",
    "    nx.set_node_attributes(G6b,dict(clos_t),'closeness_t')\n",
    "    closeness_df=pd.DataFrame.from_dict(dict(clos_t),columns=['closeness_t'],orient='index')\n",
    "    node6=list(closeness_df.sort_values('closeness_t',axis = 0,ascending = False).index)\n",
    "    remove6b.append([node6[0]])\n",
    "\n",
    "    result_global_eff6.append(global_efficiency(G6b))\n",
    "    G6b.remove_nodes_from([node6[0]])\n",
    "\n",
    "print(result_global_eff6)\n",
    "print(remove6b)"
   ]
  },
  {
   "cell_type": "markdown",
   "id": "0bb52cf9-1dd5-4eaa-9f9a-400c49dde81c",
   "metadata": {},
   "source": [
    "## impact of nodes removal"
   ]
  },
  {
   "cell_type": "code",
   "execution_count": 47,
   "id": "94ac51ec-a1da-4b9b-bfea-d9c8e8b968ec",
   "metadata": {},
   "outputs": [
    {
     "data": {
      "image/png": "[encoded data removed]",
      "text/plain": [
       "<Figure size 720x360 with 1 Axes>"
      ]
     },
     "metadata": {
      "needs_background": "light"
     },
     "output_type": "display_data"
    }
   ],
   "source": [
    "# plot the line chart:Non-sequential\n",
    "plt.figure(figsize=(10,5))\n",
    "plt.title('Impact Measurement 1: Largest connected component',fontsize=20)\n",
    "plt.xlabel('Number of nodes removed',fontsize=14)\n",
    "plt.ylabel('Impact',fontsize=14)\n",
    " \n",
    "in1, = plt.plot(result_percent1,color=\"green\",linewidth=2)\n",
    "in2, = plt.plot(result_percent2,color=\"yellow\",linewidth=2)\n",
    "in3, = plt.plot(result_percent3,color=\"red\",linewidth=2)\n",
    "in4, = plt.plot(result_percent4,color=\"orange\",linewidth=2)\n",
    "in5, = plt.plot(result_percent5,color=\"blue\",linewidth=2)\n",
    "in6, = plt.plot(result_percent6,color=\"black\",linewidth=2)\n",
    " \n",
    "plt.legend(handles = [in1,in2,in3,in4,in5,in6],labels=['Degree-Non-Seq','Betweeness-Non-Seq','Closeness-Non-Seq','Degree-Seq','Betweeness--Seq','Closeness--Seq'],loc=6)\n",
    "plt.show()"
   ]
  },
  {
   "cell_type": "code",
   "execution_count": 48,
   "id": "04a2cc16-5c17-4f46-b19f-f29a584de9f5",
   "metadata": {},
   "outputs": [
    {
     "data": {
      "image/png": "[encoded data removed]",
      "text/plain": [
       "<Figure size 720x360 with 1 Axes>"
      ]
     },
     "metadata": {
      "needs_background": "light"
     },
     "output_type": "display_data"
    }
   ],
   "source": [
    "# plot the line chart:sequential\n",
    "plt.figure(figsize=(10,5))\n",
    "plt.title('Impact Measurement 2: Global efficiency',fontsize=20)\n",
    "plt.xlabel('Number of nodes removed',fontsize=14)\n",
    "plt.ylabel('Impact',fontsize=14)\n",
    " \n",
    "in1, = plt.plot(result_global_eff1,color=\"green\",linewidth=2)\n",
    "in2, = plt.plot(result_global_eff2,color=\"yellow\",linewidth=2)\n",
    "in3, = plt.plot(result_global_eff3,color=\"red\",linewidth=2)\n",
    "in4, = plt.plot(result_global_eff4,color=\"orange\",linewidth=2)\n",
    "in5, = plt.plot(result_global_eff5,color=\"blue\",linewidth=2)\n",
    "in6, = plt.plot(result_global_eff6,color=\"black\",linewidth=2)\n",
    " \n",
    "plt.legend(handles = [in1,in2,in3,in4,in5,in6],labels=['Degree-Non-Seq','Betweeness-Non-Seq','Closeness-Non-Seq','Degree-Seq','Betweeness--Seq','Closeness--Seq'],loc=6)\n",
    "plt.show()"
   ]
  },
  {
   "cell_type": "markdown",
   "id": "c35ed2a1-47c2-44db-8f8c-8f5f1a1b6535",
   "metadata": {},
   "source": [
    " "
   ]
  },
  {
   "cell_type": "markdown",
   "id": "96c40af3-ba51-4f24-8e97-5080eda78c85",
   "metadata": {},
   "source": [
    "## Flows: weighted network"
   ]
  },
  {
   "cell_type": "code",
   "execution_count": 49,
   "id": "e45f2379-5116-4e63-a040-5458a6bbc832",
   "metadata": {},
   "outputs": [
    {
     "data": {
      "text/plain": [
       "[('Wembley Park',\n",
       "  'Kingsbury',\n",
       "  {'length': 2916.7715580506483,\n",
       "   'line_name': 'Jubilee',\n",
       "   'flows': 12356,\n",
       "   'station_1_': 'Wembley Park',\n",
       "   'station_2_': 'Kingsbury',\n",
       "   'flows_inv': 8.09e-05}),\n",
       " ('Wembley Park',\n",
       "  'Neasden',\n",
       "  {'length': 2353.1659381957816,\n",
       "   'line_name': 'Jubilee',\n",
       "   'flows': 6744,\n",
       "   'station_1_': 'Wembley Park',\n",
       "   'station_2_': 'Neasden',\n",
       "   'flows_inv': 0.0001483}),\n",
       " ('Wembley Park',\n",
       "  'Preston Road',\n",
       "  {'length': 1419.7351657633037,\n",
       "   'line_name': 'Metropolitan',\n",
       "   'flows': 36601,\n",
       "   'station_1_': 'Wembley Park',\n",
       "   'station_2_': 'Preston Road',\n",
       "   'flows_inv': 2.73e-05}),\n",
       " ('Wembley Park',\n",
       "  'Finchley Road',\n",
       "  {'length': 7266.37392749648,\n",
       "   'line_name': 'Metropolitan',\n",
       "   'flows': 55216,\n",
       "   'station_1_': 'Wembley Park',\n",
       "   'station_2_': 'Finchley Road',\n",
       "   'flows_inv': 1.81e-05}),\n",
       " ('Kingsbury',\n",
       "  'Queensbury',\n",
       "  {'length': 1245.9952343630068,\n",
       "   'line_name': 'Jubilee',\n",
       "   'flows': 9419,\n",
       "   'station_1_': 'Kingsbury',\n",
       "   'station_2_': 'Queensbury',\n",
       "   'flows_inv': 0.0001062})]"
      ]
     },
     "execution_count": 49,
     "metadata": {},
     "output_type": "execute_result"
    }
   ],
   "source": [
    "# Inverse weights:\n",
    "flows_inv={}\n",
    "\n",
    "for e1, e2, flow in G.edges(data='flows'):\n",
    "    if flow != 0:\n",
    "        flows_inv.update({(e1, e2): round(1./flow,7)})\n",
    "    else:\n",
    "        flows_inv.update({(e1, e2): 0})\n",
    "\n",
    "nx.set_edge_attributes(G,flows_inv,'flows_inv')\n",
    "\n",
    "list(G.edges(data=True))[0:5]"
   ]
  },
  {
   "cell_type": "code",
   "execution_count": 50,
   "id": "3bcbf05f-cb9b-48a4-a957-002c404bb812",
   "metadata": {},
   "outputs": [],
   "source": [
    "#deg_london =nx.degree_centrality(G,weight='flows_inv')\n",
    "#nx.set_node_attributes(G,dict(deg_london),'degree')\n",
    "\n",
    "# To dataframe using the nodes as the index\n",
    "#df_degree = pd.DataFrame(index=G.nodes())\n",
    "#df_degree['station_name'] = pd.Series(nx.get_node_attributes(G, 'station_name'))\n",
    "#df_degree['degree'] = pd.Series(nx.get_node_attributes(G, 'degree'))\n",
    "\n",
    "#df_degree_sorted = df_degree.sort_values([\"degree\"], ascending=False)\n",
    "#df_degree_sorted[0:10]"
   ]
  },
  {
   "cell_type": "code",
   "execution_count": 51,
   "id": "8fc36cd5-a175-4ef3-837e-f33b0fb9a8ca",
   "metadata": {},
   "outputs": [],
   "source": [
    "# Recompute according to betweenness centrality\n",
    "bet_london_w=nx.betweenness_centrality(G,weight='flows_inv',normalized=False)"
   ]
  },
  {
   "cell_type": "markdown",
   "id": "21de9bc3-884b-41b2-a621-ec7d6a95b2be",
   "metadata": {},
   "source": [
    "#### II.1. 10 most important nodes according to weighted betweenness centrality"
   ]
  },
  {
   "cell_type": "code",
   "execution_count": 52,
   "id": "9b6d4711-5f49-47dd-8b33-10e1e88d2b81",
   "metadata": {},
   "outputs": [
    {
     "data": {
      "text/plain": [
       "['Green Park',\n",
       " 'Bank and Monument',\n",
       " 'Waterloo',\n",
       " 'Westminster',\n",
       " 'Liverpool Street',\n",
       " 'Stratford',\n",
       " 'Bond Street',\n",
       " 'Euston',\n",
       " 'Oxford Circus',\n",
       " 'Warren Street']"
      ]
     },
     "execution_count": 52,
     "metadata": {},
     "output_type": "execute_result"
    }
   ],
   "source": [
    "between_w_df=pd.DataFrame.from_dict(dict(bet_london_w),columns=['bet_london_w'],orient='index')\n",
    "node_w=list(between_w_df.sort_values('bet_london_w',axis = 0,ascending = False).index)\n",
    "max_w=node_w[0:10]\n",
    "\n",
    "max_w"
   ]
  },
  {
   "cell_type": "code",
   "execution_count": 53,
   "id": "2992c99a-c40c-4388-a9fe-0b8c2ad38fd0",
   "metadata": {},
   "outputs": [
    {
     "data": {
      "text/html": [
       "<div>\n",
       "<style scoped>\n",
       "    .dataframe tbody tr th:only-of-type {\n",
       "        vertical-align: middle;\n",
       "    }\n",
       "\n",
       "    .dataframe tbody tr th {\n",
       "        vertical-align: top;\n",
       "    }\n",
       "\n",
       "    .dataframe thead th {\n",
       "        text-align: right;\n",
       "    }\n",
       "</style>\n",
       "<table border=\"1\" class=\"dataframe\">\n",
       "  <thead>\n",
       "    <tr style=\"text-align: right;\">\n",
       "      <th></th>\n",
       "      <th>bet_london_w</th>\n",
       "    </tr>\n",
       "  </thead>\n",
       "  <tbody>\n",
       "    <tr>\n",
       "      <th>Green Park</th>\n",
       "      <td>44892.50</td>\n",
       "    </tr>\n",
       "    <tr>\n",
       "      <th>Bank and Monument</th>\n",
       "      <td>39758.50</td>\n",
       "    </tr>\n",
       "    <tr>\n",
       "      <th>Waterloo</th>\n",
       "      <td>31904.25</td>\n",
       "    </tr>\n",
       "    <tr>\n",
       "      <th>Westminster</th>\n",
       "      <td>29664.50</td>\n",
       "    </tr>\n",
       "    <tr>\n",
       "      <th>Liverpool Street</th>\n",
       "      <td>26530.00</td>\n",
       "    </tr>\n",
       "    <tr>\n",
       "      <th>...</th>\n",
       "      <td>...</td>\n",
       "    </tr>\n",
       "    <tr>\n",
       "      <th>Stepney Green</th>\n",
       "      <td>0.00</td>\n",
       "    </tr>\n",
       "    <tr>\n",
       "      <th>Bow Road</th>\n",
       "      <td>0.00</td>\n",
       "    </tr>\n",
       "    <tr>\n",
       "      <th>Bromley-by-Bow</th>\n",
       "      <td>0.00</td>\n",
       "    </tr>\n",
       "    <tr>\n",
       "      <th>High Barnet</th>\n",
       "      <td>0.00</td>\n",
       "    </tr>\n",
       "    <tr>\n",
       "      <th>Stamford Brook</th>\n",
       "      <td>0.00</td>\n",
       "    </tr>\n",
       "  </tbody>\n",
       "</table>\n",
       "<p>401 rows × 1 columns</p>\n",
       "</div>"
      ],
      "text/plain": [
       "                   bet_london_w\n",
       "Green Park             44892.50\n",
       "Bank and Monument      39758.50\n",
       "Waterloo               31904.25\n",
       "Westminster            29664.50\n",
       "Liverpool Street       26530.00\n",
       "...                         ...\n",
       "Stepney Green              0.00\n",
       "Bow Road                   0.00\n",
       "Bromley-by-Bow             0.00\n",
       "High Barnet                0.00\n",
       "Stamford Brook             0.00\n",
       "\n",
       "[401 rows x 1 columns]"
      ]
     },
     "execution_count": 53,
     "metadata": {},
     "output_type": "execute_result"
    }
   ],
   "source": [
    "between_w_df.sort_values('bet_london_w',ascending = False)"
   ]
  },
  {
   "cell_type": "code",
   "execution_count": 54,
   "id": "d8c1a226-f7c6-4d8b-bef5-921a4e4b8dfb",
   "metadata": {},
   "outputs": [],
   "source": [
    "#Weighted closeness centrality: \n",
    "#clos_w=nx.closeness_centrality(G, distance='flows_inv')\n",
    "# We can add these values to the nodes attributes:\n",
    "#nx.set_node_attributes(G,clos_w,'closeness_w')\n",
    "\n",
    "# To dataframe using the nodes as the index\n",
    "#df = pd.DataFrame(index=G.nodes())\n",
    "#df['station_name'] = pd.Series(nx.get_node_attributes(G, 'station_name'))\n",
    "#df['closeness_w'] = pd.Series(nx.get_node_attributes(G, 'closeness_w'))\n",
    "\n",
    "#df_sorted = df.sort_values([\"closeness_w\"], ascending=False)\n",
    "#df_sorted[0:10]"
   ]
  },
  {
   "cell_type": "markdown",
   "id": "91cdab27-f5e8-4589-ba88-a3734c7af1a8",
   "metadata": {},
   "source": [
    "#### II.3. Node removal"
   ]
  },
  {
   "cell_type": "markdown",
   "id": "194d0a89-a4e6-4716-b645-03b64aaf20f4",
   "metadata": {},
   "source": [
    "##### Average shortest path"
   ]
  },
  {
   "cell_type": "markdown",
   "id": "0840be03-f306-4936-8a44-d989f68eda2d",
   "metadata": {},
   "source": [
    "###### a）without flows"
   ]
  },
  {
   "cell_type": "code",
   "execution_count": 55,
   "id": "7319a15c-0487-4f9b-9afc-c7e940bd30e3",
   "metadata": {},
   "outputs": [
    {
     "data": {
      "text/plain": [
       "401"
      ]
     },
     "execution_count": 55,
     "metadata": {},
     "output_type": "execute_result"
    }
   ],
   "source": [
    "G7a=G.copy()\n",
    "# Number of existing nodes:\n",
    "l7a=list(G7a.nodes)\n",
    "len(l7a)"
   ]
  },
  {
   "cell_type": "code",
   "execution_count": 56,
   "id": "b6d3a8eb-3f1c-4f10-82e2-d7ba37fb77d0",
   "metadata": {},
   "outputs": [
    {
     "name": "stdout",
     "output_type": "stream",
     "text": [
      "13.545997506234414\n"
     ]
    }
   ],
   "source": [
    "Gcc7a = sorted(nx.connected_components(G7a), key=len, reverse=True)\n",
    "Gsub7a = G7a.subgraph(Gcc7a[0])\n",
    "betweeness_w_path1=nx.average_shortest_path_length(Gsub7a)\n",
    "print(betweeness_w_path1)"
   ]
  },
  {
   "cell_type": "code",
   "execution_count": 57,
   "id": "d3579bcf-71b1-4898-b440-05b1ace55cc1",
   "metadata": {},
   "outputs": [
    {
     "data": {
      "text/plain": [
       "'Stratford'"
      ]
     },
     "execution_count": 57,
     "metadata": {},
     "output_type": "execute_result"
    }
   ],
   "source": [
    "node1[0]"
   ]
  },
  {
   "cell_type": "code",
   "execution_count": 58,
   "id": "0cf3b856-df84-430e-97d9-5a3fce77168d",
   "metadata": {},
   "outputs": [
    {
     "name": "stdout",
     "output_type": "stream",
     "text": [
      "14.496447069006436\n"
     ]
    }
   ],
   "source": [
    "G7a.remove_nodes_from([node1[0]])\n",
    "\n",
    "Gcc7a = sorted(nx.connected_components(G7a), key=len, reverse=True)\n",
    "Gsub7a = G7a.subgraph(Gcc7a[0])\n",
    "betweeness_w_path2=nx.average_shortest_path_length(Gsub7a)\n",
    "print(betweeness_w_path2)"
   ]
  },
  {
   "cell_type": "code",
   "execution_count": 59,
   "id": "98be214c-4afe-4b8a-89d3-1236f4e7e19d",
   "metadata": {},
   "outputs": [
    {
     "name": "stdout",
     "output_type": "stream",
     "text": [
      "0.0701646048830724\n"
     ]
    }
   ],
   "source": [
    "changes_without_flows=(betweeness_w_path2-betweeness_w_path1)/betweeness_w_path1\n",
    "print(changes_without_flows)"
   ]
  },
  {
   "cell_type": "markdown",
   "id": "fd6946b4-8878-4136-a5b0-2c5a45eebfd5",
   "metadata": {},
   "source": [
    "###### b）with flows"
   ]
  },
  {
   "cell_type": "code",
   "execution_count": 60,
   "id": "30114abe-1ef1-47da-8e79-df8c4226d097",
   "metadata": {},
   "outputs": [
    {
     "data": {
      "text/plain": [
       "401"
      ]
     },
     "execution_count": 60,
     "metadata": {},
     "output_type": "execute_result"
    }
   ],
   "source": [
    "G7b=G.copy()\n",
    "# Number of existing nodes:\n",
    "l7b=list(G7b.nodes)\n",
    "len(l7b)"
   ]
  },
  {
   "cell_type": "code",
   "execution_count": 61,
   "id": "ed8d70ed-241b-41a9-a477-57a12966285f",
   "metadata": {},
   "outputs": [
    {
     "data": {
      "text/plain": [
       "[('Wembley Park',\n",
       "  'Kingsbury',\n",
       "  {'length': 2916.7715580506483,\n",
       "   'line_name': 'Jubilee',\n",
       "   'flows': 12356,\n",
       "   'station_1_': 'Wembley Park',\n",
       "   'station_2_': 'Kingsbury',\n",
       "   'flows_inv': 8.09e-05}),\n",
       " ('Wembley Park',\n",
       "  'Neasden',\n",
       "  {'length': 2353.1659381957816,\n",
       "   'line_name': 'Jubilee',\n",
       "   'flows': 6744,\n",
       "   'station_1_': 'Wembley Park',\n",
       "   'station_2_': 'Neasden',\n",
       "   'flows_inv': 0.0001483}),\n",
       " ('Wembley Park',\n",
       "  'Preston Road',\n",
       "  {'length': 1419.7351657633037,\n",
       "   'line_name': 'Metropolitan',\n",
       "   'flows': 36601,\n",
       "   'station_1_': 'Wembley Park',\n",
       "   'station_2_': 'Preston Road',\n",
       "   'flows_inv': 2.73e-05}),\n",
       " ('Wembley Park',\n",
       "  'Finchley Road',\n",
       "  {'length': 7266.37392749648,\n",
       "   'line_name': 'Metropolitan',\n",
       "   'flows': 55216,\n",
       "   'station_1_': 'Wembley Park',\n",
       "   'station_2_': 'Finchley Road',\n",
       "   'flows_inv': 1.81e-05}),\n",
       " ('Kingsbury',\n",
       "  'Queensbury',\n",
       "  {'length': 1245.9952343630068,\n",
       "   'line_name': 'Jubilee',\n",
       "   'flows': 9419,\n",
       "   'station_1_': 'Kingsbury',\n",
       "   'station_2_': 'Queensbury',\n",
       "   'flows_inv': 0.0001062})]"
      ]
     },
     "execution_count": 61,
     "metadata": {},
     "output_type": "execute_result"
    }
   ],
   "source": [
    "list(G7b.edges(data=True))[0:5]"
   ]
  },
  {
   "cell_type": "code",
   "execution_count": 62,
   "id": "5bc4556d-24cc-42c9-92d1-d86d60049882",
   "metadata": {},
   "outputs": [
    {
     "name": "stdout",
     "output_type": "stream",
     "text": [
      "0.0008114665523690714\n"
     ]
    }
   ],
   "source": [
    "Gcc7b = sorted(nx.connected_components(G7b), key=len, reverse=True)\n",
    "Gsub7b = G7b.subgraph(Gcc7b[0])\n",
    "betweeness_w_path3=nx.average_shortest_path_length(Gsub7b,weight ='flows_inv')\n",
    "print(betweeness_w_path3)\n",
    "\n",
    "#components = nx.connected_components(G7b)\n",
    "# Use the max() command to find the largest one:\n",
    "#largest_component = max(components, key=len)\n",
    "# Create a \"subgraph\" of the largest component\n",
    "#Largest_subgraph = G7b.subgraph(largest_component)\n",
    "#betweeness_w_path3 = nx.average_shortest_path_length(Largest_subgraph,weight='flows_inv')\n",
    "#print(betweeness_w_path3)"
   ]
  },
  {
   "cell_type": "code",
   "execution_count": 63,
   "id": "f489d9ab-5eb8-44b7-86c0-3a02d2bcb3b1",
   "metadata": {},
   "outputs": [
    {
     "data": {
      "text/plain": [
       "['Green Park']"
      ]
     },
     "execution_count": 63,
     "metadata": {},
     "output_type": "execute_result"
    }
   ],
   "source": [
    "[node_w[0]]"
   ]
  },
  {
   "cell_type": "code",
   "execution_count": 64,
   "id": "bc9a1901-7ac2-48fc-93a6-58597b7fed3b",
   "metadata": {},
   "outputs": [
    {
     "name": "stdout",
     "output_type": "stream",
     "text": [
      "0.0008390851253132848\n"
     ]
    }
   ],
   "source": [
    "G7b.remove_nodes_from([node_w[0]])\n",
    "\n",
    "Gcc7b = sorted(nx.connected_components(G7b), key=len, reverse=True)\n",
    "Gsub7b = G7b.subgraph(Gcc7b[0])\n",
    "betweeness_w_path4=nx.average_shortest_path_length(Gsub7b,weight ='flows_inv')\n",
    "print(betweeness_w_path4)"
   ]
  },
  {
   "cell_type": "code",
   "execution_count": 65,
   "id": "903dc2c0-12f2-4e53-9fd4-e1aa233e39b1",
   "metadata": {},
   "outputs": [
    {
     "name": "stdout",
     "output_type": "stream",
     "text": [
      "0.034035380587876446\n"
     ]
    }
   ],
   "source": [
    "changes_with_flows=(betweeness_w_path4-betweeness_w_path3)/betweeness_w_path3\n",
    "print(changes_with_flows)"
   ]
  },
  {
   "cell_type": "markdown",
   "id": "df0625ed-4034-4fc5-9207-8327bb66cb08",
   "metadata": {},
   "source": [
    "##### Largest connected component"
   ]
  },
  {
   "cell_type": "markdown",
   "id": "1103586f-b9c9-4373-b31d-2cce59655204",
   "metadata": {},
   "source": [
    "###### a) without flows"
   ]
  },
  {
   "cell_type": "code",
   "execution_count": 66,
   "id": "1c51614c-b598-4770-b095-77c05ff9c12a",
   "metadata": {},
   "outputs": [
    {
     "data": {
      "text/plain": [
       "401"
      ]
     },
     "execution_count": 66,
     "metadata": {},
     "output_type": "execute_result"
    }
   ],
   "source": [
    "G8a=G.copy()\n",
    "# Number of existing nodes:\n",
    "l8a=list(G8a.nodes)\n",
    "len(l8a)"
   ]
  },
  {
   "cell_type": "code",
   "execution_count": 67,
   "id": "b775122c-6554-4b8c-82c8-5c2304e52e75",
   "metadata": {},
   "outputs": [
    {
     "name": "stdout",
     "output_type": "stream",
     "text": [
      "1\n",
      "401\n",
      "100.0\n"
     ]
    }
   ],
   "source": [
    "# number of connected components\n",
    "no_of_component8a1=nx.number_connected_components(G8a)\n",
    "\n",
    "# let's subset this graph to the largest connected component\n",
    "Gcc8a1 = sorted(nx.connected_components(G8a), key=len, reverse=True)\n",
    "Gsub8a1 = G8a.subgraph(Gcc8a1[0])\n",
    "size8a1 = Gsub8a1.number_of_nodes()\n",
    "    \n",
    "# calculate the percentage of nodes present in the largest connected components\n",
    "percent_lcc8a1 = (len(Gsub8a1.nodes)/len(G8a.nodes)) * 100\n",
    "\n",
    "print(no_of_component8a1)    \n",
    "print(size8a1)\n",
    "print(percent_lcc8a1)"
   ]
  },
  {
   "cell_type": "code",
   "execution_count": 68,
   "id": "24c11858-398b-4351-b5d0-021f87eed8fd",
   "metadata": {},
   "outputs": [
    {
     "data": {
      "text/plain": [
       "'Stratford'"
      ]
     },
     "execution_count": 68,
     "metadata": {},
     "output_type": "execute_result"
    }
   ],
   "source": [
    "node1[0]"
   ]
  },
  {
   "cell_type": "code",
   "execution_count": 69,
   "id": "502799e3-c244-4023-b6b6-06131b340884",
   "metadata": {},
   "outputs": [
    {
     "name": "stdout",
     "output_type": "stream",
     "text": [
      "3\n",
      "379\n",
      "94.75\n"
     ]
    }
   ],
   "source": [
    "G8a.remove_nodes_from([node1[0]])\n",
    "\n",
    "# number of connected components\n",
    "no_of_component8a2=nx.number_connected_components(G8a)\n",
    "\n",
    "# let's subset this graph to the largest connected component\n",
    "Gcc8a2 = sorted(nx.connected_components(G8a), key=len, reverse=True)\n",
    "Gsub8a2 = G8a.subgraph(Gcc8a2[0])\n",
    "size8a2 = Gsub8a2.number_of_nodes()\n",
    "    \n",
    "# calculate the percentage of nodes present in the largest connected components\n",
    "percent_lcc8a2 = (len(Gsub8a2.nodes)/len(G8a.nodes)) * 100\n",
    "\n",
    "print(no_of_component8a2)    \n",
    "print(size8a2)\n",
    "print(percent_lcc8a2)"
   ]
  },
  {
   "cell_type": "code",
   "execution_count": 70,
   "id": "96550105-5114-42b1-a8d6-a6ab673a9d05",
   "metadata": {},
   "outputs": [
    {
     "name": "stdout",
     "output_type": "stream",
     "text": [
      "2.0\n",
      "-0.05486284289276808\n",
      "-0.0525\n"
     ]
    }
   ],
   "source": [
    "changes_without_flows_lcc1=(no_of_component8a2-no_of_component8a1)/no_of_component8a1\n",
    "changes_without_flows_lcc2=(size8a2-size8a1)/size8a1\n",
    "changes_without_flows_lcc3=(percent_lcc8a2-percent_lcc8a1)/percent_lcc8a1\n",
    "print(changes_without_flows_lcc1)\n",
    "print(changes_without_flows_lcc2)\n",
    "print(changes_without_flows_lcc3)"
   ]
  },
  {
   "cell_type": "markdown",
   "id": "451c924b-75a1-4393-bda4-2ab380487459",
   "metadata": {},
   "source": [
    "###### b) with flows"
   ]
  },
  {
   "cell_type": "code",
   "execution_count": 71,
   "id": "9b9366ce-5f18-4912-b832-fc16c66f520a",
   "metadata": {},
   "outputs": [
    {
     "data": {
      "text/plain": [
       "401"
      ]
     },
     "execution_count": 71,
     "metadata": {},
     "output_type": "execute_result"
    }
   ],
   "source": [
    "G8b=G.copy()\n",
    "# Number of existing nodes:\n",
    "l8b=list(G8b.nodes)\n",
    "len(l8b)"
   ]
  },
  {
   "cell_type": "code",
   "execution_count": 72,
   "id": "f64b8e75-9260-4f12-85d0-0112f21a2745",
   "metadata": {},
   "outputs": [
    {
     "name": "stdout",
     "output_type": "stream",
     "text": [
      "1\n",
      "400\n",
      "100.0\n"
     ]
    }
   ],
   "source": [
    "G8b.remove_nodes_from([node_w[0]])\n",
    "\n",
    "# number of connected components\n",
    "no_of_component8b=nx.number_connected_components(G8b)\n",
    "\n",
    "# let's subset this graph to the largest connected component\n",
    "Gcc8b = sorted(nx.connected_components(G8b), key=len, reverse=True)\n",
    "Gsub8b = G8b.subgraph(Gcc8b[0])\n",
    "size8b = Gsub8b.number_of_nodes()\n",
    "    \n",
    "# calculate the percentage of nodes present in the largest connected components\n",
    "percent_lcc8b = (len(Gsub8b.nodes)/len(G8b.nodes)) * 100\n",
    "\n",
    "print(no_of_component8b)    \n",
    "print(size8b)\n",
    "print(percent_lcc8b)"
   ]
  },
  {
   "cell_type": "code",
   "execution_count": 73,
   "id": "72dfd4ac-b84f-4328-a594-6b8c4acd4115",
   "metadata": {},
   "outputs": [
    {
     "name": "stdout",
     "output_type": "stream",
     "text": [
      "0.0\n",
      "-0.0024937655860349127\n",
      "0.0\n"
     ]
    }
   ],
   "source": [
    "changes_without_flows_lcc1=(no_of_component8b-no_of_component8a1)/no_of_component8a1\n",
    "changes_without_flows_lcc2=(size8b-size8a1)/size8a1\n",
    "changes_without_flows_lcc3=(percent_lcc8b-percent_lcc8a1)/percent_lcc8a1\n",
    "print(changes_without_flows_lcc1)\n",
    "print(changes_without_flows_lcc2)\n",
    "print(changes_without_flows_lcc3)"
   ]
  }
 ],
 "metadata": {
  "kernelspec": {
   "display_name": "Python 3 (ipykernel)",
   "language": "python",
   "name": "python3"
  },
  "language_info": {
   "codemirror_mode": {
    "name": "ipython",
    "version": 3
   },
   "file_extension": ".py",
   "mimetype": "text/x-python",
   "name": "python",
   "nbconvert_exporter": "python",
   "pygments_lexer": "ipython3",
   "version": "3.9.6"
  }
 },
 "nbformat": 4,
 "nbformat_minor": 5
}
